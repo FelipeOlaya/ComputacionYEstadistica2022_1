{
  "nbformat": 4,
  "nbformat_minor": 0,
  "metadata": {
    "colab": {
      "name": "PrimerEjercicio.ipynb",
      "provenance": [],
      "collapsed_sections": []
    },
    "kernelspec": {
      "name": "python3",
      "display_name": "Python 3"
    },
    "language_info": {
      "name": "python"
    }
  },
  "cells": [
    {
      "cell_type": "markdown",
      "source": [
        "##**$$Primer Notebook$$**##\n",
        "\n",
        "Este Notebook desarrolla las actividades y pendientes de la primera clase del curso Computación y Estadística para el semestre 2022-1. A continuación se presentan los pasos para desarrollar el primer acercamiento a Google Colabs y a los lenguajes de programación como Python y $\\LaTeX$."
      ],
      "metadata": {
        "id": "sdvElkmKL-16"
      }
    },
    {
      "cell_type": "markdown",
      "source": [
        "Con esta herramienta se puede escribir texto plano o código:"
      ],
      "metadata": {
        "id": "NiZh-X57QNFL"
      }
    },
    {
      "cell_type": "code",
      "source": [
        "# Este es un chunck de código\n",
        "\n",
        "print(1+2+3+4+5)"
      ],
      "metadata": {
        "colab": {
          "base_uri": "https://localhost:8080/",
          "height": 0
        },
        "id": "zTdafRrLNRuO",
        "outputId": "24a67386-c069-4e75-89f4-a99094d51eaf"
      },
      "execution_count": 1,
      "outputs": [
        {
          "output_type": "stream",
          "name": "stdout",
          "text": [
            "15\n"
          ]
        }
      ]
    },
    {
      "cell_type": "markdown",
      "source": [
        "También se pueden escribir ecuaciones en $\\LaTeX$:\n",
        "\n",
        "$$Media\\left ( X \\right ) = \\bar{x} = \\frac{\\sum_{i=1}^{N}X_{i}}{N}$$\n",
        "\n"
      ],
      "metadata": {
        "id": "qvhJw1xCQfjp"
      }
    },
    {
      "cell_type": "markdown",
      "source": [
        "Así mismo, se pueden generar matrices: \n",
        "\n",
        "$$\\begin{pmatrix}\n",
        " x_{1}& y_{1} & z_{1} & q_{1} \\\\\n",
        " x_{2}& y_{2} & z_{2} & q_{2} \\\\\n",
        " x_{3}& y_{3} & z_{3} & q_{3} \\\\\n",
        " x_{4}& y_{4} & z_{4} & q_{4} \\\\\n",
        "\\end{pmatrix}$$"
      ],
      "metadata": {
        "id": "qdKIAPj-c5kw"
      }
    },
    {
      "cell_type": "markdown",
      "source": [
        "Y se pueden crear tablas: \n",
        "$$\\begin{array}{r l}\n",
        "  Producto & Rendimiento(T/Ha) \\\\\n",
        "  Papa & 90 \\\\\n",
        "  Limón & 120 \\\\\n",
        "  Puerro & 30\n",
        "\\end{array}$$"
      ],
      "metadata": {
        "id": "M2jzc2MUhue1"
      }
    },
    {
      "cell_type": "markdown",
      "source": [
        "Por útlimo también se pueden insertar imágenes desde Google:\n",
        "\n",
        "\n",
        "![Python](https://huertadelcorneja.com/wp-content/uploads/2017/02/DSC08489.jpg)\n",
        "\n",
        "\n",
        "\n",
        "\n",
        "*   [Link de la imagen](https://huertadelcorneja.com/wp-content/uploads/2017/02/DSC08489.jpg)\n",
        "\n",
        "\n",
        "\n",
        "\n"
      ],
      "metadata": {
        "id": "T9KnPgQEejV8"
      }
    },
    {
      "cell_type": "markdown",
      "source": [
        "Por último se puede traer archivos de datos como: .xlsx, .txt y .cvs entre otros, mediante un chunck de código. "
      ],
      "metadata": {
        "id": "0eT_Zt04gFWw"
      }
    },
    {
      "cell_type": "code",
      "source": [
        "ubi_archivo = 'content/drive/MyDrive/Computación y estadística/Clase1/Copia de clase1_CE20221.xlsx)'\n",
        "print(ubi_archivo)"
      ],
      "metadata": {
        "colab": {
          "base_uri": "https://localhost:8080/",
          "height": 0
        },
        "id": "oc-VeywTgYE_",
        "outputId": "d39ea31d-4c71-4ae6-d2af-7943c95ed586"
      },
      "execution_count": 3,
      "outputs": [
        {
          "output_type": "stream",
          "name": "stdout",
          "text": [
            "content/drive/MyDrive/Computación y estadística/Clase1/Copia de clase1_CE20221.xlsx)\n"
          ]
        }
      ]
    },
    {
      "cell_type": "markdown",
      "source": [
        ""
      ],
      "metadata": {
        "id": "BtfuiOJlgXV0"
      }
    }
  ]
}